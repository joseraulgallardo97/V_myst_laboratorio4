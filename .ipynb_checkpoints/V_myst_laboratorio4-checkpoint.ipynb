{
 "cells": [
  {
   "cell_type": "markdown",
   "metadata": {},
   "source": [
    "___\n",
    "<img style=\"float: right; margin: 0px 0px 15px 15px;\" \n",
    "src=\"https://www.carrerasenlinea.mx/logos/original/logo-instituto-tecnologico-y-de-estudios\n",
    "-superiores-de-occidente.png\" width=\"150px\" height=\"100px\" />\n",
    "\n",
    "\n",
    "# MICROESTRUCTURAS Y SISTEMAS DE \"TRADING\"\n",
    "# LABORATORIO 4\n",
    "\n",
    "## Nombres: \n",
    "\n",
    "## Fecha: \n",
    "\n",
    "El propósito: Que puedas describir los efectos cuantitativos en el precio durante los comunicados de indicadores macroeconómicos, así como el detectar oportunidades de inversión a partir de los resultados obtenidos. Lo anterior, utilizando lo que se conoce como \"Calendario Económico\", y más en particular, aquel que incorpora información de las principales economías del mundo por lo que es ampliamiente utilizado en el mercado de Forex."
   ]
  },
  {
   "cell_type": "code",
   "execution_count": 2,
   "metadata": {},
   "outputs": [],
   "source": [
    "import pandas as pd\n",
    "import numpy as np"
   ]
  },
  {
   "cell_type": "markdown",
   "metadata": {},
   "source": [
    "## Importando datos"
   ]
  },
  {
   "cell_type": "markdown",
   "metadata": {},
   "source": [
    "#### Calendario económico"
   ]
  },
  {
   "cell_type": "code",
   "execution_count": 3,
   "metadata": {
    "scrolled": true
   },
   "outputs": [
    {
     "data": {
      "text/html": [
       "<div>\n",
       "<style scoped>\n",
       "    .dataframe tbody tr th:only-of-type {\n",
       "        vertical-align: middle;\n",
       "    }\n",
       "\n",
       "    .dataframe tbody tr th {\n",
       "        vertical-align: top;\n",
       "    }\n",
       "\n",
       "    .dataframe thead th {\n",
       "        text-align: right;\n",
       "    }\n",
       "</style>\n",
       "<table border=\"1\" class=\"dataframe\">\n",
       "  <thead>\n",
       "    <tr style=\"text-align: right;\">\n",
       "      <th></th>\n",
       "      <th>timestamp</th>\n",
       "      <th>Currency</th>\n",
       "      <th>Name</th>\n",
       "      <th>Country</th>\n",
       "      <th>Volatility</th>\n",
       "      <th>actual</th>\n",
       "      <th>previous</th>\n",
       "      <th>consensus</th>\n",
       "    </tr>\n",
       "  </thead>\n",
       "  <tbody>\n",
       "    <tr>\n",
       "      <th>0</th>\n",
       "      <td>2009-01-05 09:30:00+00:00</td>\n",
       "      <td>EUR</td>\n",
       "      <td>Sentix Investor Confidence</td>\n",
       "      <td>European Monetary Union</td>\n",
       "      <td>1</td>\n",
       "      <td>-34.4</td>\n",
       "      <td>-42.3</td>\n",
       "      <td>NaN</td>\n",
       "    </tr>\n",
       "    <tr>\n",
       "      <th>1</th>\n",
       "      <td>2009-01-05 15:00:00+00:00</td>\n",
       "      <td>USD</td>\n",
       "      <td>Construction Spending (MoM)</td>\n",
       "      <td>United States</td>\n",
       "      <td>1</td>\n",
       "      <td>-1.2</td>\n",
       "      <td>-0.4</td>\n",
       "      <td>-1.3</td>\n",
       "    </tr>\n",
       "    <tr>\n",
       "      <th>2</th>\n",
       "      <td>2009-01-06 08:55:00+00:00</td>\n",
       "      <td>EUR</td>\n",
       "      <td>Markit Services PMI</td>\n",
       "      <td>Germany</td>\n",
       "      <td>1</td>\n",
       "      <td>46.6</td>\n",
       "      <td>46.4</td>\n",
       "      <td>46.4</td>\n",
       "    </tr>\n",
       "    <tr>\n",
       "      <th>3</th>\n",
       "      <td>2009-01-06 09:00:00+00:00</td>\n",
       "      <td>EUR</td>\n",
       "      <td>Markit Services PMI</td>\n",
       "      <td>European Monetary Union</td>\n",
       "      <td>0</td>\n",
       "      <td>42.1</td>\n",
       "      <td>42.0</td>\n",
       "      <td>42.0</td>\n",
       "    </tr>\n",
       "    <tr>\n",
       "      <th>4</th>\n",
       "      <td>2009-01-06 10:00:00+00:00</td>\n",
       "      <td>EUR</td>\n",
       "      <td>Consumer Price Index (YoY)</td>\n",
       "      <td>European Monetary Union</td>\n",
       "      <td>2</td>\n",
       "      <td>1.6</td>\n",
       "      <td>2.1</td>\n",
       "      <td>1.8</td>\n",
       "    </tr>\n",
       "  </tbody>\n",
       "</table>\n",
       "</div>"
      ],
      "text/plain": [
       "                  timestamp Currency                         Name  \\\n",
       "0 2009-01-05 09:30:00+00:00      EUR   Sentix Investor Confidence   \n",
       "1 2009-01-05 15:00:00+00:00      USD  Construction Spending (MoM)   \n",
       "2 2009-01-06 08:55:00+00:00      EUR          Markit Services PMI   \n",
       "3 2009-01-06 09:00:00+00:00      EUR          Markit Services PMI   \n",
       "4 2009-01-06 10:00:00+00:00      EUR   Consumer Price Index (YoY)   \n",
       "\n",
       "                   Country  Volatility  actual  previous  consensus  \n",
       "0  European Monetary Union           1   -34.4     -42.3        NaN  \n",
       "1            United States           1    -1.2      -0.4       -1.3  \n",
       "2                  Germany           1    46.6      46.4       46.4  \n",
       "3  European Monetary Union           0    42.1      42.0       42.0  \n",
       "4  European Monetary Union           2     1.6       2.1        1.8  "
      ]
     },
     "execution_count": 3,
     "metadata": {},
     "output_type": "execute_result"
    }
   ],
   "source": [
    "data = pd.read_csv('../V_myst_laboratorio4/calendario_economico.csv',header=0, index_col=None, parse_dates=False)\n",
    "data['timestamp'] = [pd.to_datetime(data.iat[i,0]).tz_localize('GMT') for i in range(len(data))] # Timestamp a 'GMT'\n",
    "data.head()"
   ]
  },
  {
   "cell_type": "markdown",
   "metadata": {},
   "source": [
    "#### Precios 2019"
   ]
  },
  {
   "cell_type": "code",
   "execution_count": 8,
   "metadata": {},
   "outputs": [
    {
     "data": {
      "text/html": [
       "<div>\n",
       "<style scoped>\n",
       "    .dataframe tbody tr th:only-of-type {\n",
       "        vertical-align: middle;\n",
       "    }\n",
       "\n",
       "    .dataframe tbody tr th {\n",
       "        vertical-align: top;\n",
       "    }\n",
       "\n",
       "    .dataframe thead th {\n",
       "        text-align: right;\n",
       "    }\n",
       "</style>\n",
       "<table border=\"1\" class=\"dataframe\">\n",
       "  <thead>\n",
       "    <tr style=\"text-align: right;\">\n",
       "      <th></th>\n",
       "      <th>timestamp</th>\n",
       "      <th>open</th>\n",
       "      <th>high</th>\n",
       "      <th>low</th>\n",
       "      <th>close</th>\n",
       "    </tr>\n",
       "  </thead>\n",
       "  <tbody>\n",
       "    <tr>\n",
       "      <th>0</th>\n",
       "      <td>2019-01-01 22:00:00+00:00</td>\n",
       "      <td>1.14649</td>\n",
       "      <td>1.14658</td>\n",
       "      <td>1.14634</td>\n",
       "      <td>1.14658</td>\n",
       "    </tr>\n",
       "    <tr>\n",
       "      <th>1</th>\n",
       "      <td>2019-01-01 22:05:00+00:00</td>\n",
       "      <td>1.14658</td>\n",
       "      <td>1.14658</td>\n",
       "      <td>1.14635</td>\n",
       "      <td>1.14635</td>\n",
       "    </tr>\n",
       "    <tr>\n",
       "      <th>2</th>\n",
       "      <td>2019-01-01 22:10:00+00:00</td>\n",
       "      <td>1.14635</td>\n",
       "      <td>1.14636</td>\n",
       "      <td>1.14632</td>\n",
       "      <td>1.14632</td>\n",
       "    </tr>\n",
       "    <tr>\n",
       "      <th>3</th>\n",
       "      <td>2019-01-01 22:15:00+00:00</td>\n",
       "      <td>1.14632</td>\n",
       "      <td>1.14632</td>\n",
       "      <td>1.14632</td>\n",
       "      <td>1.14632</td>\n",
       "    </tr>\n",
       "    <tr>\n",
       "      <th>4</th>\n",
       "      <td>2019-01-01 22:20:00+00:00</td>\n",
       "      <td>1.14653</td>\n",
       "      <td>1.14653</td>\n",
       "      <td>1.14653</td>\n",
       "      <td>1.14653</td>\n",
       "    </tr>\n",
       "  </tbody>\n",
       "</table>\n",
       "</div>"
      ],
      "text/plain": [
       "                  timestamp     open     high      low    close\n",
       "0 2019-01-01 22:00:00+00:00  1.14649  1.14658  1.14634  1.14658\n",
       "1 2019-01-01 22:05:00+00:00  1.14658  1.14658  1.14635  1.14635\n",
       "2 2019-01-01 22:10:00+00:00  1.14635  1.14636  1.14632  1.14632\n",
       "3 2019-01-01 22:15:00+00:00  1.14632  1.14632  1.14632  1.14632\n",
       "4 2019-01-01 22:20:00+00:00  1.14653  1.14653  1.14653  1.14653"
      ]
     },
     "execution_count": 8,
     "metadata": {},
     "output_type": "execute_result"
    }
   ],
   "source": [
    "p19 = pd.read_csv('../V_myst_laboratorio4/precios_historicos_eurusd_2019.csv',header=0, index_col=None, parse_dates=False)\n",
    "p19['timestamp'] = [pd.to_datetime(p19.iat[i,0]).tz_localize('GMT') for i in range(len(p19))] # Timestamp a 'GMT'\n",
    "p19.head()"
   ]
  },
  {
   "cell_type": "markdown",
   "metadata": {},
   "source": [
    "## Selección de indicadores"
   ]
  },
  {
   "cell_type": "markdown",
   "metadata": {},
   "source": [
    "### DataFrame para indicador de USD 'Factory Orders (MoM)'"
   ]
  },
  {
   "cell_type": "code",
   "execution_count": 9,
   "metadata": {
    "scrolled": true
   },
   "outputs": [],
   "source": [
    "# Creando dataframe con indicadores deseados\n",
    "df_usa = data[(data['Country'] == \"United States\") & (data['Name'] == \"Factory Orders (MoM)\")].reset_index()\n",
    "df_usa = df_usa.drop(['index'], 1) # Eliminando columna de index viejo"
   ]
  },
  {
   "cell_type": "code",
   "execution_count": 10,
   "metadata": {},
   "outputs": [
    {
     "data": {
      "text/html": [
       "<div>\n",
       "<style scoped>\n",
       "    .dataframe tbody tr th:only-of-type {\n",
       "        vertical-align: middle;\n",
       "    }\n",
       "\n",
       "    .dataframe tbody tr th {\n",
       "        vertical-align: top;\n",
       "    }\n",
       "\n",
       "    .dataframe thead th {\n",
       "        text-align: right;\n",
       "    }\n",
       "</style>\n",
       "<table border=\"1\" class=\"dataframe\">\n",
       "  <thead>\n",
       "    <tr style=\"text-align: right;\">\n",
       "      <th></th>\n",
       "      <th>timestamp</th>\n",
       "      <th>Currency</th>\n",
       "      <th>Name</th>\n",
       "      <th>Country</th>\n",
       "      <th>Volatility</th>\n",
       "      <th>actual</th>\n",
       "      <th>previous</th>\n",
       "      <th>consensus</th>\n",
       "    </tr>\n",
       "  </thead>\n",
       "  <tbody>\n",
       "    <tr>\n",
       "      <th>0</th>\n",
       "      <td>2009-01-06 15:00:00+00:00</td>\n",
       "      <td>USD</td>\n",
       "      <td>Factory Orders (MoM)</td>\n",
       "      <td>United States</td>\n",
       "      <td>2</td>\n",
       "      <td>-6.5</td>\n",
       "      <td>-6.0</td>\n",
       "      <td>-2.3</td>\n",
       "    </tr>\n",
       "    <tr>\n",
       "      <th>1</th>\n",
       "      <td>2009-02-05 15:00:00+00:00</td>\n",
       "      <td>USD</td>\n",
       "      <td>Factory Orders (MoM)</td>\n",
       "      <td>United States</td>\n",
       "      <td>2</td>\n",
       "      <td>-4.9</td>\n",
       "      <td>-6.5</td>\n",
       "      <td>-3.0</td>\n",
       "    </tr>\n",
       "    <tr>\n",
       "      <th>2</th>\n",
       "      <td>2009-03-05 15:00:00+00:00</td>\n",
       "      <td>USD</td>\n",
       "      <td>Factory Orders (MoM)</td>\n",
       "      <td>United States</td>\n",
       "      <td>2</td>\n",
       "      <td>-3.5</td>\n",
       "      <td>-4.9</td>\n",
       "      <td>-2.0</td>\n",
       "    </tr>\n",
       "    <tr>\n",
       "      <th>3</th>\n",
       "      <td>2009-04-02 14:00:00+00:00</td>\n",
       "      <td>USD</td>\n",
       "      <td>Factory Orders (MoM)</td>\n",
       "      <td>United States</td>\n",
       "      <td>2</td>\n",
       "      <td>0.7</td>\n",
       "      <td>-3.5</td>\n",
       "      <td>-1.3</td>\n",
       "    </tr>\n",
       "    <tr>\n",
       "      <th>4</th>\n",
       "      <td>2009-05-01 14:00:00+00:00</td>\n",
       "      <td>USD</td>\n",
       "      <td>Factory Orders (MoM)</td>\n",
       "      <td>United States</td>\n",
       "      <td>2</td>\n",
       "      <td>-0.9</td>\n",
       "      <td>0.7</td>\n",
       "      <td>-0.7</td>\n",
       "    </tr>\n",
       "  </tbody>\n",
       "</table>\n",
       "</div>"
      ],
      "text/plain": [
       "                  timestamp Currency                  Name        Country  \\\n",
       "0 2009-01-06 15:00:00+00:00      USD  Factory Orders (MoM)  United States   \n",
       "1 2009-02-05 15:00:00+00:00      USD  Factory Orders (MoM)  United States   \n",
       "2 2009-03-05 15:00:00+00:00      USD  Factory Orders (MoM)  United States   \n",
       "3 2009-04-02 14:00:00+00:00      USD  Factory Orders (MoM)  United States   \n",
       "4 2009-05-01 14:00:00+00:00      USD  Factory Orders (MoM)  United States   \n",
       "\n",
       "   Volatility  actual  previous  consensus  \n",
       "0           2    -6.5      -6.0       -2.3  \n",
       "1           2    -4.9      -6.5       -3.0  \n",
       "2           2    -3.5      -4.9       -2.0  \n",
       "3           2     0.7      -3.5       -1.3  \n",
       "4           2    -0.9       0.7       -0.7  "
      ]
     },
     "execution_count": 10,
     "metadata": {},
     "output_type": "execute_result"
    }
   ],
   "source": [
    "idx = df_usa[df_usa['consensus'].isna()].index # Encontrando row de los NaN en 'Consensus'\n",
    "df_usa.iloc[idx,7] = df_usa.iloc[idx,6] # Reemplazando 'Consensus' con 'Previous'\n",
    "df_usa.head()"
   ]
  },
  {
   "cell_type": "markdown",
   "metadata": {},
   "source": [
    "### DataFrame para indicador de EUR 'Industrial Production s.a. (MoM)'"
   ]
  },
  {
   "cell_type": "code",
   "execution_count": 11,
   "metadata": {
    "scrolled": false
   },
   "outputs": [
    {
     "data": {
      "text/html": [
       "<div>\n",
       "<style scoped>\n",
       "    .dataframe tbody tr th:only-of-type {\n",
       "        vertical-align: middle;\n",
       "    }\n",
       "\n",
       "    .dataframe tbody tr th {\n",
       "        vertical-align: top;\n",
       "    }\n",
       "\n",
       "    .dataframe thead th {\n",
       "        text-align: right;\n",
       "    }\n",
       "</style>\n",
       "<table border=\"1\" class=\"dataframe\">\n",
       "  <thead>\n",
       "    <tr style=\"text-align: right;\">\n",
       "      <th></th>\n",
       "      <th>timestamp</th>\n",
       "      <th>Currency</th>\n",
       "      <th>Name</th>\n",
       "      <th>Country</th>\n",
       "      <th>Volatility</th>\n",
       "      <th>actual</th>\n",
       "      <th>previous</th>\n",
       "      <th>consensus</th>\n",
       "    </tr>\n",
       "  </thead>\n",
       "  <tbody>\n",
       "    <tr>\n",
       "      <th>0</th>\n",
       "      <td>2009-01-14 10:00:00+00:00</td>\n",
       "      <td>EUR</td>\n",
       "      <td>Industrial Production s.a. (MoM)</td>\n",
       "      <td>European Monetary Union</td>\n",
       "      <td>1</td>\n",
       "      <td>-3.0</td>\n",
       "      <td>-1.2</td>\n",
       "      <td>-1.8</td>\n",
       "    </tr>\n",
       "    <tr>\n",
       "      <th>1</th>\n",
       "      <td>2009-02-12 10:00:00+00:00</td>\n",
       "      <td>EUR</td>\n",
       "      <td>Industrial Production s.a. (MoM)</td>\n",
       "      <td>European Monetary Union</td>\n",
       "      <td>1</td>\n",
       "      <td>-4.5</td>\n",
       "      <td>-3.0</td>\n",
       "      <td>-2.5</td>\n",
       "    </tr>\n",
       "    <tr>\n",
       "      <th>2</th>\n",
       "      <td>2009-03-20 10:00:00+00:00</td>\n",
       "      <td>EUR</td>\n",
       "      <td>Industrial Production s.a. (MoM)</td>\n",
       "      <td>European Monetary Union</td>\n",
       "      <td>1</td>\n",
       "      <td>-2.9</td>\n",
       "      <td>-4.5</td>\n",
       "      <td>-1.5</td>\n",
       "    </tr>\n",
       "    <tr>\n",
       "      <th>3</th>\n",
       "      <td>2009-04-16 09:00:00+00:00</td>\n",
       "      <td>EUR</td>\n",
       "      <td>Industrial Production s.a. (MoM)</td>\n",
       "      <td>European Monetary Union</td>\n",
       "      <td>1</td>\n",
       "      <td>-3.3</td>\n",
       "      <td>-2.9</td>\n",
       "      <td>-2.5</td>\n",
       "    </tr>\n",
       "    <tr>\n",
       "      <th>4</th>\n",
       "      <td>2009-05-13 09:00:00+00:00</td>\n",
       "      <td>EUR</td>\n",
       "      <td>Industrial Production s.a. (MoM)</td>\n",
       "      <td>European Monetary Union</td>\n",
       "      <td>1</td>\n",
       "      <td>-1.1</td>\n",
       "      <td>-3.3</td>\n",
       "      <td>-1.0</td>\n",
       "    </tr>\n",
       "  </tbody>\n",
       "</table>\n",
       "</div>"
      ],
      "text/plain": [
       "                  timestamp Currency                              Name  \\\n",
       "0 2009-01-14 10:00:00+00:00      EUR  Industrial Production s.a. (MoM)   \n",
       "1 2009-02-12 10:00:00+00:00      EUR  Industrial Production s.a. (MoM)   \n",
       "2 2009-03-20 10:00:00+00:00      EUR  Industrial Production s.a. (MoM)   \n",
       "3 2009-04-16 09:00:00+00:00      EUR  Industrial Production s.a. (MoM)   \n",
       "4 2009-05-13 09:00:00+00:00      EUR  Industrial Production s.a. (MoM)   \n",
       "\n",
       "                   Country  Volatility  actual  previous  consensus  \n",
       "0  European Monetary Union           1    -3.0      -1.2       -1.8  \n",
       "1  European Monetary Union           1    -4.5      -3.0       -2.5  \n",
       "2  European Monetary Union           1    -2.9      -4.5       -1.5  \n",
       "3  European Monetary Union           1    -3.3      -2.9       -2.5  \n",
       "4  European Monetary Union           1    -1.1      -3.3       -1.0  "
      ]
     },
     "execution_count": 11,
     "metadata": {},
     "output_type": "execute_result"
    }
   ],
   "source": [
    "# Creando dataframe con indicadores deseados\n",
    "df_eur = data[(data['Country'] == \"European Monetary Union\") & (data['Name'] == \"Industrial Production s.a. (MoM)\")].reset_index()\n",
    "df_eur = df_eur.drop(['index'], 1) # Eliminando columna de index viejo\n",
    "df_eur.head()"
   ]
  },
  {
   "cell_type": "markdown",
   "metadata": {},
   "source": [
    "### DataFrames por indicador"
   ]
  },
  {
   "cell_type": "code",
   "execution_count": 34,
   "metadata": {},
   "outputs": [],
   "source": [
    "dates_usa = list(p19.loc[p19['timestamp'].isin(df_usa['timestamp'])]['timestamp']) # Timestamps presentes en indicador y precios"
   ]
  },
  {
   "cell_type": "code",
   "execution_count": 50,
   "metadata": {},
   "outputs": [],
   "source": [
    "p_usa_df = {} # Diccionario para df de precios indicador usa\n",
    "for i in range(len(dates_usa)):\n",
    "    ref = p19.loc[p19['timestamp'] == dates_usa[i]].index.values[0] # Fila de donde se encuentra el timestamp del calendario en precios\n",
    "    start = ref - 6 # Sacando 30 min antes (fila)\n",
    "    end = ref + 6 # Sacando 30 min despues (fila)\n",
    "    df = p19.iloc[start:end+1, :].reset_index().drop('index',1) # Filtrando dataframe, reinicio de index y drop del viejo index\n",
    "    p_usa_df[dates_usa[i]] = df # Almacenar en diccionario con siendo el timestamp usado como 'key'"
   ]
  }
 ],
 "metadata": {
  "kernelspec": {
   "display_name": "Python 3",
   "language": "python",
   "name": "python3"
  },
  "language_info": {
   "codemirror_mode": {
    "name": "ipython",
    "version": 3
   },
   "file_extension": ".py",
   "mimetype": "text/x-python",
   "name": "python",
   "nbconvert_exporter": "python",
   "pygments_lexer": "ipython3",
   "version": "3.7.1"
  }
 },
 "nbformat": 4,
 "nbformat_minor": 2
}
